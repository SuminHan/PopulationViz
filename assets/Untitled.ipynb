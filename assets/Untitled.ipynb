{
 "cells": [
  {
   "cell_type": "code",
   "execution_count": 1,
   "id": "595d7a03",
   "metadata": {},
   "outputs": [],
   "source": [
    "import pandas as pd"
   ]
  },
  {
   "cell_type": "code",
   "execution_count": 5,
   "id": "429062a3",
   "metadata": {},
   "outputs": [],
   "source": [
    "df = pd.read_csv('population_grid_128x128_data.csv', index_col=0)"
   ]
  },
  {
   "cell_type": "code",
   "execution_count": 9,
   "id": "b7268190",
   "metadata": {},
   "outputs": [],
   "source": [
    "dfdt = pd.to_datetime(df.index)"
   ]
  },
  {
   "cell_type": "code",
   "execution_count": 14,
   "id": "0852041c",
   "metadata": {},
   "outputs": [],
   "source": [
    "df[(dfdt.year == 2017) & (dfdt.month == 3)].to_csv('population_grid_128x128_data_light.csv')"
   ]
  },
  {
   "cell_type": "code",
   "execution_count": null,
   "id": "0a79867f",
   "metadata": {},
   "outputs": [],
   "source": []
  },
  {
   "cell_type": "code",
   "execution_count": 15,
   "id": "d951440d",
   "metadata": {},
   "outputs": [],
   "source": [
    "df = pd.read_csv('population_grid_256x256_data.csv', index_col=0)"
   ]
  },
  {
   "cell_type": "code",
   "execution_count": 16,
   "id": "be26a51d",
   "metadata": {},
   "outputs": [],
   "source": [
    "dfdt = pd.to_datetime(df.index)"
   ]
  },
  {
   "cell_type": "code",
   "execution_count": null,
   "id": "519b7c2c",
   "metadata": {},
   "outputs": [],
   "source": [
    "df[(dfdt.year == 2018) & (dfdt.month == 3)].to_csv('population_grid_256x256_data_light.csv')"
   ]
  },
  {
   "cell_type": "code",
   "execution_count": null,
   "id": "067ffc61",
   "metadata": {},
   "outputs": [],
   "source": []
  }
 ],
 "metadata": {
  "kernelspec": {
   "display_name": "TF",
   "language": "python",
   "name": "tf"
  },
  "language_info": {
   "codemirror_mode": {
    "name": "ipython",
    "version": 3
   },
   "file_extension": ".py",
   "mimetype": "text/x-python",
   "name": "python",
   "nbconvert_exporter": "python",
   "pygments_lexer": "ipython3",
   "version": "3.7.10"
  }
 },
 "nbformat": 4,
 "nbformat_minor": 5
}
